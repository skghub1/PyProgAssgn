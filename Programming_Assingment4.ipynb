{
 "cells": [
  {
   "cell_type": "markdown",
   "id": "beac0f73",
   "metadata": {},
   "source": [
    "# Programming_Assignment4 "
   ]
  },
  {
   "cell_type": "code",
   "execution_count": 27,
   "id": "cf2d9062",
   "metadata": {},
   "outputs": [],
   "source": [
    "# Write a Python Program to Find the Factorial of a Number?\n",
    "\n",
    "def fact(a):\n",
    "    if type(a) == int:\n",
    "        fact = 1\n",
    "        i = 1\n",
    "        while i <= a:\n",
    "            fact = fact*i\n",
    "            i = i+1\n",
    "\n",
    "    else:\n",
    "        fact = \"invalid input provided\"\n",
    "    \n",
    "    print(\"Factorial of the given number is: \")\n",
    "    return fact\n",
    "    "
   ]
  },
  {
   "cell_type": "code",
   "execution_count": 10,
   "id": "0492f513",
   "metadata": {},
   "outputs": [
    {
     "name": "stdout",
     "output_type": "stream",
     "text": [
      "Factorial of the given number is: \n"
     ]
    },
    {
     "data": {
      "text/plain": [
       "6"
      ]
     },
     "execution_count": 10,
     "metadata": {},
     "output_type": "execute_result"
    }
   ],
   "source": [
    "fact(3)"
   ]
  },
  {
   "cell_type": "code",
   "execution_count": 12,
   "id": "39037637",
   "metadata": {},
   "outputs": [
    {
     "name": "stdout",
     "output_type": "stream",
     "text": [
      "Factorial of the given number is: \n"
     ]
    },
    {
     "data": {
      "text/plain": [
       "'invalid input provided'"
      ]
     },
     "execution_count": 12,
     "metadata": {},
     "output_type": "execute_result"
    }
   ],
   "source": [
    "fact(\"u\")"
   ]
  },
  {
   "cell_type": "code",
   "execution_count": 13,
   "id": "ede76c8b",
   "metadata": {},
   "outputs": [
    {
     "name": "stdout",
     "output_type": "stream",
     "text": [
      "Factorial of the given number is: \n"
     ]
    },
    {
     "data": {
      "text/plain": [
       "'invalid input provided'"
      ]
     },
     "execution_count": 13,
     "metadata": {},
     "output_type": "execute_result"
    }
   ],
   "source": [
    "fact(2/3)"
   ]
  },
  {
   "cell_type": "code",
   "execution_count": 14,
   "id": "0229aa5b",
   "metadata": {},
   "outputs": [
    {
     "name": "stdout",
     "output_type": "stream",
     "text": [
      "Factorial of the given number is: \n"
     ]
    },
    {
     "data": {
      "text/plain": [
       "'invalid input provided'"
      ]
     },
     "execution_count": 14,
     "metadata": {},
     "output_type": "execute_result"
    }
   ],
   "source": [
    "fact(2.3)"
   ]
  },
  {
   "cell_type": "code",
   "execution_count": 15,
   "id": "f7f14f71",
   "metadata": {},
   "outputs": [
    {
     "name": "stdout",
     "output_type": "stream",
     "text": [
      "Factorial of the given number is: \n"
     ]
    },
    {
     "data": {
      "text/plain": [
       "1"
      ]
     },
     "execution_count": 15,
     "metadata": {},
     "output_type": "execute_result"
    }
   ],
   "source": [
    "fact(0)"
   ]
  },
  {
   "cell_type": "code",
   "execution_count": 19,
   "id": "42486fed",
   "metadata": {},
   "outputs": [],
   "source": [
    "# Write a Python Program to Display the multiplication Table?\n",
    "\n",
    "def mtable(a):\n",
    "    if type(a) == int:\n",
    "        for i in range(1,11):\n",
    "            b = a*i\n",
    "            print(a,\"x\",i,\"=\",b,\"\\n\")\n",
    "            \n",
    "    else:\n",
    "        print(\"Enter a valid input\")"
   ]
  },
  {
   "cell_type": "code",
   "execution_count": 20,
   "id": "7a204ba0",
   "metadata": {},
   "outputs": [
    {
     "name": "stdout",
     "output_type": "stream",
     "text": [
      "2 x 1 = 2 \n",
      "\n",
      "2 x 2 = 4 \n",
      "\n",
      "2 x 3 = 6 \n",
      "\n",
      "2 x 4 = 8 \n",
      "\n",
      "2 x 5 = 10 \n",
      "\n",
      "2 x 6 = 12 \n",
      "\n",
      "2 x 7 = 14 \n",
      "\n",
      "2 x 8 = 16 \n",
      "\n",
      "2 x 9 = 18 \n",
      "\n",
      "2 x 10 = 20 \n",
      "\n"
     ]
    }
   ],
   "source": [
    "mtable(2)"
   ]
  },
  {
   "cell_type": "code",
   "execution_count": 21,
   "id": "71c8627e",
   "metadata": {},
   "outputs": [
    {
     "name": "stdout",
     "output_type": "stream",
     "text": [
      "Enter a valid input\n"
     ]
    }
   ],
   "source": [
    "mtable(8.9)"
   ]
  },
  {
   "cell_type": "code",
   "execution_count": 22,
   "id": "b30a3512",
   "metadata": {},
   "outputs": [
    {
     "name": "stdout",
     "output_type": "stream",
     "text": [
      "89 x 1 = 89 \n",
      "\n",
      "89 x 2 = 178 \n",
      "\n",
      "89 x 3 = 267 \n",
      "\n",
      "89 x 4 = 356 \n",
      "\n",
      "89 x 5 = 445 \n",
      "\n",
      "89 x 6 = 534 \n",
      "\n",
      "89 x 7 = 623 \n",
      "\n",
      "89 x 8 = 712 \n",
      "\n",
      "89 x 9 = 801 \n",
      "\n",
      "89 x 10 = 890 \n",
      "\n"
     ]
    }
   ],
   "source": [
    "mtable(89)"
   ]
  },
  {
   "cell_type": "code",
   "execution_count": 23,
   "id": "b8d60275",
   "metadata": {},
   "outputs": [
    {
     "name": "stdout",
     "output_type": "stream",
     "text": [
      "-87 x 1 = -87 \n",
      "\n",
      "-87 x 2 = -174 \n",
      "\n",
      "-87 x 3 = -261 \n",
      "\n",
      "-87 x 4 = -348 \n",
      "\n",
      "-87 x 5 = -435 \n",
      "\n",
      "-87 x 6 = -522 \n",
      "\n",
      "-87 x 7 = -609 \n",
      "\n",
      "-87 x 8 = -696 \n",
      "\n",
      "-87 x 9 = -783 \n",
      "\n",
      "-87 x 10 = -870 \n",
      "\n"
     ]
    }
   ],
   "source": [
    "mtable(-87)"
   ]
  },
  {
   "cell_type": "code",
   "execution_count": 24,
   "id": "bbb0d01d",
   "metadata": {},
   "outputs": [
    {
     "name": "stdout",
     "output_type": "stream",
     "text": [
      "Enter a valid input\n"
     ]
    }
   ],
   "source": [
    "mtable(True)"
   ]
  },
  {
   "cell_type": "code",
   "execution_count": 25,
   "id": "aedbd409",
   "metadata": {},
   "outputs": [
    {
     "name": "stdout",
     "output_type": "stream",
     "text": [
      "Enter a valid input\n"
     ]
    }
   ],
   "source": [
    "mtable(\"test\")"
   ]
  },
  {
   "cell_type": "code",
   "execution_count": 80,
   "id": "3d2403fb",
   "metadata": {},
   "outputs": [],
   "source": [
    "# Write a Python Program to Print the Fibonacci sequence?\n",
    "\n",
    "def fibsq(a):\n",
    "    if type(a) == int:\n",
    "\n",
    "        if a >= 0:\n",
    "            b = 0\n",
    "            c = []\n",
    "            for i in range(0,a):\n",
    "                if i <= 1:\n",
    "                    c.append(i)\n",
    "\n",
    "                else:\n",
    "                    c.append(c[i-2] + c[i-1])\n",
    "\n",
    "            \n",
    "    else:\n",
    "        c = \"enter a valid input\"\n",
    "        \n",
    "    return (c)\n",
    "        \n",
    "    \n",
    "        \n",
    "    "
   ]
  },
  {
   "cell_type": "code",
   "execution_count": 81,
   "id": "cb4dbc92",
   "metadata": {},
   "outputs": [
    {
     "data": {
      "text/plain": [
       "[0, 1, 1, 2, 3, 5, 8, 13, 21, 34]"
      ]
     },
     "execution_count": 81,
     "metadata": {},
     "output_type": "execute_result"
    }
   ],
   "source": [
    "fibsq(10)"
   ]
  },
  {
   "cell_type": "code",
   "execution_count": 82,
   "id": "c948c03f",
   "metadata": {},
   "outputs": [
    {
     "data": {
      "text/plain": [
       "[0,\n",
       " 1,\n",
       " 1,\n",
       " 2,\n",
       " 3,\n",
       " 5,\n",
       " 8,\n",
       " 13,\n",
       " 21,\n",
       " 34,\n",
       " 55,\n",
       " 89,\n",
       " 144,\n",
       " 233,\n",
       " 377,\n",
       " 610,\n",
       " 987,\n",
       " 1597,\n",
       " 2584,\n",
       " 4181,\n",
       " 6765,\n",
       " 10946,\n",
       " 17711,\n",
       " 28657,\n",
       " 46368]"
      ]
     },
     "execution_count": 82,
     "metadata": {},
     "output_type": "execute_result"
    }
   ],
   "source": [
    "fibsq(25)"
   ]
  },
  {
   "cell_type": "code",
   "execution_count": 83,
   "id": "e21ecebb",
   "metadata": {},
   "outputs": [
    {
     "data": {
      "text/plain": [
       "'enter a valid input'"
      ]
     },
     "execution_count": 83,
     "metadata": {},
     "output_type": "execute_result"
    }
   ],
   "source": [
    "fibsq(\"ui\")"
   ]
  },
  {
   "cell_type": "code",
   "execution_count": 84,
   "id": "28a43523",
   "metadata": {},
   "outputs": [
    {
     "data": {
      "text/plain": [
       "'enter a valid input'"
      ]
     },
     "execution_count": 84,
     "metadata": {},
     "output_type": "execute_result"
    }
   ],
   "source": [
    "fibsq(2.325)"
   ]
  },
  {
   "cell_type": "code",
   "execution_count": 181,
   "id": "b818aee8",
   "metadata": {},
   "outputs": [],
   "source": [
    "# Write a Python Program to Check Armstrong Number?\n",
    "\n",
    "# Armstrong number = sum of cubes of its digits\n",
    "\n",
    "def armsno(n):\n",
    "    if type(n) == int and n >= 0:\n",
    "        m = list(str(n))\n",
    "\n",
    "        m2 = 0\n",
    "        for i in range(len(m)):\n",
    "            \n",
    "            m2 = m2 + int(m[i])**3\n",
    "        \n",
    "        if m2 == n:\n",
    "            m3 = \" is an armstrong number!\"\n",
    "            \n",
    "        else:\n",
    "            m3 = \" is not an armstrong number!\"\n",
    "            \n",
    "    else:\n",
    "        m3 = ' is not a valid input!'\n",
    "        \n",
    "    print(n, m3)\n",
    "        "
   ]
  },
  {
   "cell_type": "code",
   "execution_count": 182,
   "id": "37645f7d",
   "metadata": {},
   "outputs": [
    {
     "name": "stdout",
     "output_type": "stream",
     "text": [
      "235  is not an armstrong number!\n"
     ]
    }
   ],
   "source": [
    "armsno(235)"
   ]
  },
  {
   "cell_type": "code",
   "execution_count": 183,
   "id": "369ab55c",
   "metadata": {},
   "outputs": [
    {
     "name": "stdout",
     "output_type": "stream",
     "text": [
      "153  is an armstrong number!\n"
     ]
    }
   ],
   "source": [
    "armsno(153)"
   ]
  },
  {
   "cell_type": "code",
   "execution_count": 184,
   "id": "4ece7bf4",
   "metadata": {},
   "outputs": [
    {
     "name": "stdout",
     "output_type": "stream",
     "text": [
      "370  is an armstrong number!\n"
     ]
    }
   ],
   "source": [
    "armsno(370)"
   ]
  },
  {
   "cell_type": "code",
   "execution_count": 185,
   "id": "08a7d108",
   "metadata": {},
   "outputs": [
    {
     "name": "stdout",
     "output_type": "stream",
     "text": [
      "uyu  is not a valid input!\n"
     ]
    }
   ],
   "source": [
    "armsno(\"uyu\")"
   ]
  },
  {
   "cell_type": "code",
   "execution_count": 243,
   "id": "7321d27d",
   "metadata": {},
   "outputs": [],
   "source": [
    "# Write a Python Program to Find Armstrong Number in an Interval?\n",
    "\n",
    "def armsno1(n):\n",
    "    if type(n) == int and n >= 0:\n",
    "        m = list(str(n))\n",
    "\n",
    "        m2 = 0\n",
    "        for i in range(len(m)):\n",
    "            \n",
    "            m2 = m2 + int(m[i])**3\n",
    "            \n",
    "    else:\n",
    "        return \"enter a valid input!\"\n",
    "        \n",
    "    return(bool(m2 == n))"
   ]
  },
  {
   "cell_type": "code",
   "execution_count": 249,
   "id": "e2ee732f",
   "metadata": {},
   "outputs": [],
   "source": [
    "def f_armsno(a):\n",
    "    if type(a) == int and a >= 0:\n",
    "        for j in range(a+1):\n",
    "            if armsno1(j) == True:\n",
    "                print(j)\n",
    "                \n",
    "    else:\n",
    "        return \"enter a valid input!\""
   ]
  },
  {
   "cell_type": "code",
   "execution_count": 250,
   "id": "0ef8b952",
   "metadata": {},
   "outputs": [
    {
     "data": {
      "text/plain": [
       "True"
      ]
     },
     "execution_count": 250,
     "metadata": {},
     "output_type": "execute_result"
    }
   ],
   "source": [
    "armsno1(153)"
   ]
  },
  {
   "cell_type": "code",
   "execution_count": 251,
   "id": "5979c1cf",
   "metadata": {},
   "outputs": [
    {
     "name": "stdout",
     "output_type": "stream",
     "text": [
      "0\n",
      "1\n",
      "153\n"
     ]
    }
   ],
   "source": [
    "f_armsno(153)"
   ]
  },
  {
   "cell_type": "code",
   "execution_count": 253,
   "id": "47c96ffd",
   "metadata": {},
   "outputs": [
    {
     "name": "stdout",
     "output_type": "stream",
     "text": [
      "0\n",
      "1\n",
      "153\n",
      "370\n",
      "371\n",
      "407\n"
     ]
    }
   ],
   "source": [
    "f_armsno(500)"
   ]
  },
  {
   "cell_type": "code",
   "execution_count": 224,
   "id": "8b626f15",
   "metadata": {},
   "outputs": [
    {
     "data": {
      "text/plain": [
       "False"
      ]
     },
     "execution_count": 224,
     "metadata": {},
     "output_type": "execute_result"
    }
   ],
   "source": [
    "armsno1(256)"
   ]
  },
  {
   "cell_type": "code",
   "execution_count": 199,
   "id": "dd2c41e2",
   "metadata": {},
   "outputs": [
    {
     "name": "stdout",
     "output_type": "stream",
     "text": [
      "0\n",
      "1\n",
      "153\n",
      "370\n",
      "371\n",
      "407\n"
     ]
    }
   ],
   "source": [
    "f_armsno(999)"
   ]
  },
  {
   "cell_type": "code",
   "execution_count": 254,
   "id": "6e43e534",
   "metadata": {},
   "outputs": [],
   "source": [
    "# Write a Python Program to Find the Sum of Natural Numbers?\n",
    "\n",
    "def sumnatno(n):\n",
    "    a = 0\n",
    "    if type(n) == int and n > 0:\n",
    "        for k in range(n+1):\n",
    "            a = a + k\n",
    "            \n",
    "    return(a)"
   ]
  },
  {
   "cell_type": "code",
   "execution_count": 255,
   "id": "a56bfc9d",
   "metadata": {},
   "outputs": [
    {
     "data": {
      "text/plain": [
       "6"
      ]
     },
     "execution_count": 255,
     "metadata": {},
     "output_type": "execute_result"
    }
   ],
   "source": [
    "sumnatno(3)"
   ]
  },
  {
   "cell_type": "code",
   "execution_count": null,
   "id": "7dd7727c",
   "metadata": {},
   "outputs": [],
   "source": []
  }
 ],
 "metadata": {
  "kernelspec": {
   "display_name": "Python 3 (ipykernel)",
   "language": "python",
   "name": "python3"
  },
  "language_info": {
   "codemirror_mode": {
    "name": "ipython",
    "version": 3
   },
   "file_extension": ".py",
   "mimetype": "text/x-python",
   "name": "python",
   "nbconvert_exporter": "python",
   "pygments_lexer": "ipython3",
   "version": "3.9.7"
  }
 },
 "nbformat": 4,
 "nbformat_minor": 5
}
