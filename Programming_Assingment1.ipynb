{
 "cells": [
  {
   "cell_type": "code",
   "execution_count": 4,
   "id": "58f4dabb",
   "metadata": {},
   "outputs": [
    {
     "name": "stdout",
     "output_type": "stream",
     "text": [
      "Hello Python\n"
     ]
    }
   ],
   "source": [
    "#Programming_Assignment1\n",
    "#Q 1. Write a Python program to print \"Hello Python\"?\n",
    "\n",
    "print(\"Hello Python\")"
   ]
  },
  {
   "cell_type": "code",
   "execution_count": 9,
   "id": "42cf1cb9",
   "metadata": {},
   "outputs": [
    {
     "name": "stdout",
     "output_type": "stream",
     "text": [
      "Enter first number: 16\n",
      "Enter second number: 4\n",
      "Sum of two numbers is:  20\n",
      "Quotient of division:  4.0\n"
     ]
    }
   ],
   "source": [
    "#Q 2. Write a Python program to do arithmetical operations addition and division?\n",
    "\n",
    "n1 = int(input(\"Enter first number: \"))\n",
    "n2 = int(input(\"Enter second number: \"))\n",
    "\n",
    "def add2num(n1,n2):\n",
    "    addn = n1 + n2\n",
    "    print(\"Sum of two numbers is: \", addn)\n",
    "    \n",
    "\n",
    "def div(n1,n2):\n",
    "    q = n1/n2\n",
    "    print(\"Quotient of division: \", q)\n",
    "    \n",
    "add2num(n1,n2)   \n",
    "div(n1,n2)"
   ]
  },
  {
   "cell_type": "code",
   "execution_count": 12,
   "id": "cc5fd32a",
   "metadata": {},
   "outputs": [
    {
     "name": "stdout",
     "output_type": "stream",
     "text": [
      "Enter base of the triangle: 15\n",
      "Enter height of the triange: 12\n",
      "Area of the triangle is:  90.0\n"
     ]
    }
   ],
   "source": [
    "#Q 3. Write a Python program to find the area of a triangle?\n",
    "\n",
    "b = float(input(\"Enter base of the triangle: \"))\n",
    "h = float(input(\"Enter height of the triange: \"))\n",
    "\n",
    "def Triangle_Area(b,h):\n",
    "    A = 0.5*b*h\n",
    "    print(\"Area of the triangle is: \", A)\n",
    "    \n",
    "Triangle_Area(b,h)   "
   ]
  },
  {
   "cell_type": "code",
   "execution_count": 17,
   "id": "56de83c2",
   "metadata": {},
   "outputs": [
    {
     "name": "stdout",
     "output_type": "stream",
     "text": [
      "Enter the value of first variable, Variable1: 563\n",
      "Enter the value of second variable, Variable2: hdw\n",
      "After swapping the values:-\n",
      "Value of Variable1:   hdw\n",
      "Value of Variable2:  563\n"
     ]
    }
   ],
   "source": [
    "#Q 4. Write a Python program to swap two variables?\n",
    "\n",
    "v1 = input(\"Enter the value of first variable, Variable1: \")\n",
    "v2 = input(\"Enter the value of second variable, Variable2: \")\n",
    "\n",
    "def swap(v1, v2):\n",
    "    sv = v1 #creating a new varibale and assigning the value of first varibale into it\n",
    "    v1 = v2 #assigning value of second varibale into the first variable\n",
    "    v2 = sv #assigning the value of newly created variable into the second variable\n",
    "    \n",
    "    print(\"After swapping the values:-\")\n",
    "    print(\"Value of Variable1:  \",v1)\n",
    "    print(\"Value of Variable2: \",v2)\n",
    "    \n",
    "swap(v1, v2)"
   ]
  },
  {
   "cell_type": "code",
   "execution_count": 26,
   "id": "ea62645f",
   "metadata": {},
   "outputs": [
    {
     "data": {
      "text/plain": [
       "7150621"
      ]
     },
     "execution_count": 26,
     "metadata": {},
     "output_type": "execute_result"
    }
   ],
   "source": [
    "#Q 5. Write a Python program to generate a random number?\n",
    "\n",
    "import random\n",
    "\n",
    "random.randint(0,9999999)"
   ]
  },
  {
   "cell_type": "code",
   "execution_count": null,
   "id": "3b5478d9",
   "metadata": {},
   "outputs": [],
   "source": []
  }
 ],
 "metadata": {
  "kernelspec": {
   "display_name": "Python 3 (ipykernel)",
   "language": "python",
   "name": "python3"
  },
  "language_info": {
   "codemirror_mode": {
    "name": "ipython",
    "version": 3
   },
   "file_extension": ".py",
   "mimetype": "text/x-python",
   "name": "python",
   "nbconvert_exporter": "python",
   "pygments_lexer": "ipython3",
   "version": "3.9.7"
  }
 },
 "nbformat": 4,
 "nbformat_minor": 5
}
